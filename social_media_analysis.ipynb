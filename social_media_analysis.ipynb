{
 "cells": [
  {
   "cell_type": "code",
   "execution_count": 1,
   "id": "6f7d6668-2e30-40ca-9856-6d86c5b26aa6",
   "metadata": {},
   "outputs": [],
   "source": [
    "import pandas as pd"
   ]
  },
  {
   "cell_type": "code",
   "execution_count": 2,
   "id": "d1e50e9c",
   "metadata": {},
   "outputs": [],
   "source": [
    "df = pd.read_csv('social_media_data.csv')"
   ]
  },
  {
   "cell_type": "code",
   "execution_count": 3,
   "id": "9056be38",
   "metadata": {},
   "outputs": [
    {
     "data": {
      "text/html": [
       "<div>\n",
       "<style scoped>\n",
       "    .dataframe tbody tr th:only-of-type {\n",
       "        vertical-align: middle;\n",
       "    }\n",
       "\n",
       "    .dataframe tbody tr th {\n",
       "        vertical-align: top;\n",
       "    }\n",
       "\n",
       "    .dataframe thead th {\n",
       "        text-align: right;\n",
       "    }\n",
       "</style>\n",
       "<table border=\"1\" class=\"dataframe\">\n",
       "  <thead>\n",
       "    <tr style=\"text-align: right;\">\n",
       "      <th></th>\n",
       "      <th>date</th>\n",
       "      <th>platform</th>\n",
       "      <th>post_type</th>\n",
       "      <th>likes</th>\n",
       "      <th>shares</th>\n",
       "      <th>comments</th>\n",
       "      <th>views</th>\n",
       "    </tr>\n",
       "  </thead>\n",
       "  <tbody>\n",
       "    <tr>\n",
       "      <th>0</th>\n",
       "      <td>5/24/2023</td>\n",
       "      <td>Twitter</td>\n",
       "      <td>image</td>\n",
       "      <td>868.0</td>\n",
       "      <td>238.0</td>\n",
       "      <td>352.0</td>\n",
       "      <td>8836.0</td>\n",
       "    </tr>\n",
       "    <tr>\n",
       "      <th>1</th>\n",
       "      <td>2/23/2023</td>\n",
       "      <td>Twitter</td>\n",
       "      <td>image</td>\n",
       "      <td>944.0</td>\n",
       "      <td>610.0</td>\n",
       "      <td>146.0</td>\n",
       "      <td>5554.0</td>\n",
       "    </tr>\n",
       "    <tr>\n",
       "      <th>2</th>\n",
       "      <td>3/18/2023</td>\n",
       "      <td>Instagram</td>\n",
       "      <td>image</td>\n",
       "      <td>1067.0</td>\n",
       "      <td>858.0</td>\n",
       "      <td>365.0</td>\n",
       "      <td>4018.0</td>\n",
       "    </tr>\n",
       "    <tr>\n",
       "      <th>3</th>\n",
       "      <td>6/12/2023</td>\n",
       "      <td>Twitter</td>\n",
       "      <td>text</td>\n",
       "      <td>780.0</td>\n",
       "      <td>427.0</td>\n",
       "      <td>100.0</td>\n",
       "      <td>6999.0</td>\n",
       "    </tr>\n",
       "    <tr>\n",
       "      <th>4</th>\n",
       "      <td>2/3/2023</td>\n",
       "      <td>Instagram</td>\n",
       "      <td>text</td>\n",
       "      <td>836.0</td>\n",
       "      <td>893.0</td>\n",
       "      <td>443.0</td>\n",
       "      <td>5802.0</td>\n",
       "    </tr>\n",
       "  </tbody>\n",
       "</table>\n",
       "</div>"
      ],
      "text/plain": [
       "        date   platform post_type   likes  shares  comments   views\n",
       "0  5/24/2023    Twitter     image   868.0   238.0     352.0  8836.0\n",
       "1  2/23/2023    Twitter     image   944.0   610.0     146.0  5554.0\n",
       "2  3/18/2023  Instagram     image  1067.0   858.0     365.0  4018.0\n",
       "3  6/12/2023    Twitter      text   780.0   427.0     100.0  6999.0\n",
       "4   2/3/2023  Instagram      text   836.0   893.0     443.0  5802.0"
      ]
     },
     "execution_count": 3,
     "metadata": {},
     "output_type": "execute_result"
    }
   ],
   "source": [
    "df.head()"
   ]
  },
  {
   "cell_type": "code",
   "execution_count": 4,
   "id": "2a9f182a",
   "metadata": {},
   "outputs": [
    {
     "name": "stdout",
     "output_type": "stream",
     "text": [
      "<class 'pandas.core.frame.DataFrame'>\n",
      "RangeIndex: 2000 entries, 0 to 1999\n",
      "Data columns (total 7 columns):\n",
      " #   Column     Non-Null Count  Dtype  \n",
      "---  ------     --------------  -----  \n",
      " 0   date       2000 non-null   object \n",
      " 1   platform   2000 non-null   object \n",
      " 2   post_type  2000 non-null   object \n",
      " 3   likes      1992 non-null   float64\n",
      " 4   shares     1992 non-null   float64\n",
      " 5   comments   1992 non-null   float64\n",
      " 6   views      1990 non-null   float64\n",
      "dtypes: float64(4), object(3)\n",
      "memory usage: 109.5+ KB\n"
     ]
    }
   ],
   "source": [
    "df.info()"
   ]
  },
  {
   "cell_type": "code",
   "execution_count": 5,
   "id": "1ab51e88",
   "metadata": {},
   "outputs": [
    {
     "data": {
      "text/html": [
       "<div>\n",
       "<style scoped>\n",
       "    .dataframe tbody tr th:only-of-type {\n",
       "        vertical-align: middle;\n",
       "    }\n",
       "\n",
       "    .dataframe tbody tr th {\n",
       "        vertical-align: top;\n",
       "    }\n",
       "\n",
       "    .dataframe thead th {\n",
       "        text-align: right;\n",
       "    }\n",
       "</style>\n",
       "<table border=\"1\" class=\"dataframe\">\n",
       "  <thead>\n",
       "    <tr style=\"text-align: right;\">\n",
       "      <th></th>\n",
       "      <th>likes</th>\n",
       "      <th>shares</th>\n",
       "      <th>comments</th>\n",
       "      <th>views</th>\n",
       "    </tr>\n",
       "  </thead>\n",
       "  <tbody>\n",
       "    <tr>\n",
       "      <th>count</th>\n",
       "      <td>1992.000000</td>\n",
       "      <td>1992.000000</td>\n",
       "      <td>1992.000000</td>\n",
       "      <td>1990.000000</td>\n",
       "    </tr>\n",
       "    <tr>\n",
       "      <th>mean</th>\n",
       "      <td>1289.795181</td>\n",
       "      <td>497.286647</td>\n",
       "      <td>305.847892</td>\n",
       "      <td>6966.834673</td>\n",
       "    </tr>\n",
       "    <tr>\n",
       "      <th>std</th>\n",
       "      <td>525.123426</td>\n",
       "      <td>229.809511</td>\n",
       "      <td>114.761598</td>\n",
       "      <td>1724.795879</td>\n",
       "    </tr>\n",
       "    <tr>\n",
       "      <th>min</th>\n",
       "      <td>400.000000</td>\n",
       "      <td>100.000000</td>\n",
       "      <td>100.000000</td>\n",
       "      <td>4000.000000</td>\n",
       "    </tr>\n",
       "    <tr>\n",
       "      <th>25%</th>\n",
       "      <td>820.000000</td>\n",
       "      <td>300.000000</td>\n",
       "      <td>206.000000</td>\n",
       "      <td>5507.000000</td>\n",
       "    </tr>\n",
       "    <tr>\n",
       "      <th>50%</th>\n",
       "      <td>1292.000000</td>\n",
       "      <td>491.000000</td>\n",
       "      <td>310.500000</td>\n",
       "      <td>6947.000000</td>\n",
       "    </tr>\n",
       "    <tr>\n",
       "      <th>75%</th>\n",
       "      <td>1753.250000</td>\n",
       "      <td>688.000000</td>\n",
       "      <td>407.000000</td>\n",
       "      <td>8398.250000</td>\n",
       "    </tr>\n",
       "    <tr>\n",
       "      <th>max</th>\n",
       "      <td>2200.000000</td>\n",
       "      <td>900.000000</td>\n",
       "      <td>500.000000</td>\n",
       "      <td>9998.000000</td>\n",
       "    </tr>\n",
       "  </tbody>\n",
       "</table>\n",
       "</div>"
      ],
      "text/plain": [
       "             likes       shares     comments        views\n",
       "count  1992.000000  1992.000000  1992.000000  1990.000000\n",
       "mean   1289.795181   497.286647   305.847892  6966.834673\n",
       "std     525.123426   229.809511   114.761598  1724.795879\n",
       "min     400.000000   100.000000   100.000000  4000.000000\n",
       "25%     820.000000   300.000000   206.000000  5507.000000\n",
       "50%    1292.000000   491.000000   310.500000  6947.000000\n",
       "75%    1753.250000   688.000000   407.000000  8398.250000\n",
       "max    2200.000000   900.000000   500.000000  9998.000000"
      ]
     },
     "execution_count": 5,
     "metadata": {},
     "output_type": "execute_result"
    }
   ],
   "source": [
    "df.describe()"
   ]
  },
  {
   "cell_type": "code",
   "execution_count": 6,
   "id": "e543a113",
   "metadata": {},
   "outputs": [
    {
     "data": {
      "text/html": [
       "<div>\n",
       "<style scoped>\n",
       "    .dataframe tbody tr th:only-of-type {\n",
       "        vertical-align: middle;\n",
       "    }\n",
       "\n",
       "    .dataframe tbody tr th {\n",
       "        vertical-align: top;\n",
       "    }\n",
       "\n",
       "    .dataframe thead th {\n",
       "        text-align: right;\n",
       "    }\n",
       "</style>\n",
       "<table border=\"1\" class=\"dataframe\">\n",
       "  <thead>\n",
       "    <tr style=\"text-align: right;\">\n",
       "      <th></th>\n",
       "      <th>post_type</th>\n",
       "      <th>likes</th>\n",
       "      <th>shares</th>\n",
       "      <th>comments</th>\n",
       "      <th>views</th>\n",
       "    </tr>\n",
       "  </thead>\n",
       "  <tbody>\n",
       "    <tr>\n",
       "      <th>0</th>\n",
       "      <td>video</td>\n",
       "      <td>816170.0</td>\n",
       "      <td>311040.0</td>\n",
       "      <td>194139.0</td>\n",
       "      <td>4464731.0</td>\n",
       "    </tr>\n",
       "  </tbody>\n",
       "</table>\n",
       "</div>"
      ],
      "text/plain": [
       "  post_type     likes    shares  comments      views\n",
       "0     video  816170.0  311040.0  194139.0  4464731.0"
      ]
     },
     "execution_count": 6,
     "metadata": {},
     "output_type": "execute_result"
    }
   ],
   "source": [
    "df[df['post_type'] == 'video'].groupby(df['post_type']).sum().drop(columns=['date', 'platform', 'post_type']).reset_index()"
   ]
  },
  {
   "cell_type": "code",
   "execution_count": 7,
   "id": "d5c3d62d",
   "metadata": {},
   "outputs": [
    {
     "data": {
      "text/html": [
       "<div>\n",
       "<style scoped>\n",
       "    .dataframe tbody tr th:only-of-type {\n",
       "        vertical-align: middle;\n",
       "    }\n",
       "\n",
       "    .dataframe tbody tr th {\n",
       "        vertical-align: top;\n",
       "    }\n",
       "\n",
       "    .dataframe thead th {\n",
       "        text-align: right;\n",
       "    }\n",
       "</style>\n",
       "<table border=\"1\" class=\"dataframe\">\n",
       "  <thead>\n",
       "    <tr style=\"text-align: right;\">\n",
       "      <th></th>\n",
       "      <th>platform</th>\n",
       "      <th>likes</th>\n",
       "      <th>shares</th>\n",
       "      <th>comments</th>\n",
       "      <th>total</th>\n",
       "    </tr>\n",
       "  </thead>\n",
       "  <tbody>\n",
       "    <tr>\n",
       "      <th>1</th>\n",
       "      <td>Instagram</td>\n",
       "      <td>882746.0</td>\n",
       "      <td>335229.0</td>\n",
       "      <td>202604.0</td>\n",
       "      <td>1420579.0</td>\n",
       "    </tr>\n",
       "    <tr>\n",
       "      <th>3</th>\n",
       "      <td>Twitter</td>\n",
       "      <td>872096.0</td>\n",
       "      <td>329505.0</td>\n",
       "      <td>208901.0</td>\n",
       "      <td>1410502.0</td>\n",
       "    </tr>\n",
       "    <tr>\n",
       "      <th>0</th>\n",
       "      <td>Facebook</td>\n",
       "      <td>807529.0</td>\n",
       "      <td>322766.0</td>\n",
       "      <td>196031.0</td>\n",
       "      <td>1326326.0</td>\n",
       "    </tr>\n",
       "    <tr>\n",
       "      <th>2</th>\n",
       "      <td>NonExistingPlatform</td>\n",
       "      <td>6901.0</td>\n",
       "      <td>3095.0</td>\n",
       "      <td>1713.0</td>\n",
       "      <td>11709.0</td>\n",
       "    </tr>\n",
       "  </tbody>\n",
       "</table>\n",
       "</div>"
      ],
      "text/plain": [
       "              platform     likes    shares  comments      total\n",
       "1            Instagram  882746.0  335229.0  202604.0  1420579.0\n",
       "3              Twitter  872096.0  329505.0  208901.0  1410502.0\n",
       "0             Facebook  807529.0  322766.0  196031.0  1326326.0\n",
       "2  NonExistingPlatform    6901.0    3095.0    1713.0    11709.0"
      ]
     },
     "execution_count": 7,
     "metadata": {},
     "output_type": "execute_result"
    }
   ],
   "source": [
    "platform_engagements = df[['platform', 'likes', 'shares', 'comments']].groupby('platform').sum().reset_index()\n",
    "platform_engagements['total'] = platform_engagements['likes'] + platform_engagements['shares'] + platform_engagements['comments'] \n",
    "platform_engagements.sort_values(by='total', ascending=False)"
   ]
  },
  {
   "cell_type": "code",
   "execution_count": 8,
   "id": "6c85d7f3",
   "metadata": {},
   "outputs": [
    {
     "data": {
      "text/html": [
       "<div>\n",
       "<style scoped>\n",
       "    .dataframe tbody tr th:only-of-type {\n",
       "        vertical-align: middle;\n",
       "    }\n",
       "\n",
       "    .dataframe tbody tr th {\n",
       "        vertical-align: top;\n",
       "    }\n",
       "\n",
       "    .dataframe thead th {\n",
       "        text-align: right;\n",
       "    }\n",
       "</style>\n",
       "<table border=\"1\" class=\"dataframe\">\n",
       "  <thead>\n",
       "    <tr style=\"text-align: right;\">\n",
       "      <th></th>\n",
       "      <th>platform</th>\n",
       "      <th>likes</th>\n",
       "      <th>shares</th>\n",
       "      <th>comments</th>\n",
       "      <th>views</th>\n",
       "    </tr>\n",
       "  </thead>\n",
       "  <tbody>\n",
       "    <tr>\n",
       "      <th>0</th>\n",
       "      <td>Facebook</td>\n",
       "      <td>1289.982428</td>\n",
       "      <td>513.141494</td>\n",
       "      <td>311.160317</td>\n",
       "      <td>6984.239234</td>\n",
       "    </tr>\n",
       "    <tr>\n",
       "      <th>1</th>\n",
       "      <td>Instagram</td>\n",
       "      <td>1305.837278</td>\n",
       "      <td>497.372404</td>\n",
       "      <td>301.046062</td>\n",
       "      <td>6905.875556</td>\n",
       "    </tr>\n",
       "    <tr>\n",
       "      <th>2</th>\n",
       "      <td>NonExistingPlatform</td>\n",
       "      <td>1150.166667</td>\n",
       "      <td>515.833333</td>\n",
       "      <td>285.500000</td>\n",
       "      <td>6729.166667</td>\n",
       "    </tr>\n",
       "    <tr>\n",
       "      <th>3</th>\n",
       "      <td>Twitter</td>\n",
       "      <td>1274.994152</td>\n",
       "      <td>482.437775</td>\n",
       "      <td>305.857980</td>\n",
       "      <td>7013.258065</td>\n",
       "    </tr>\n",
       "  </tbody>\n",
       "</table>\n",
       "</div>"
      ],
      "text/plain": [
       "              platform        likes      shares    comments        views\n",
       "0             Facebook  1289.982428  513.141494  311.160317  6984.239234\n",
       "1            Instagram  1305.837278  497.372404  301.046062  6905.875556\n",
       "2  NonExistingPlatform  1150.166667  515.833333  285.500000  6729.166667\n",
       "3              Twitter  1274.994152  482.437775  305.857980  7013.258065"
      ]
     },
     "execution_count": 8,
     "metadata": {},
     "output_type": "execute_result"
    }
   ],
   "source": [
    "platform_averages = df[['platform', 'likes', 'shares', 'comments', 'views']].groupby('platform').mean().reset_index()\n",
    "platform_averages"
   ]
  },
  {
   "cell_type": "code",
   "execution_count": 9,
   "id": "0e0c62e4",
   "metadata": {},
   "outputs": [
    {
     "data": {
      "text/html": [
       "<div>\n",
       "<style scoped>\n",
       "    .dataframe tbody tr th:only-of-type {\n",
       "        vertical-align: middle;\n",
       "    }\n",
       "\n",
       "    .dataframe tbody tr th {\n",
       "        vertical-align: top;\n",
       "    }\n",
       "\n",
       "    .dataframe thead th {\n",
       "        text-align: right;\n",
       "    }\n",
       "</style>\n",
       "<table border=\"1\" class=\"dataframe\">\n",
       "  <thead>\n",
       "    <tr style=\"text-align: right;\">\n",
       "      <th>post_type</th>\n",
       "      <th>image</th>\n",
       "      <th>text</th>\n",
       "      <th>video</th>\n",
       "    </tr>\n",
       "    <tr>\n",
       "      <th>platform</th>\n",
       "      <th></th>\n",
       "      <th></th>\n",
       "      <th></th>\n",
       "    </tr>\n",
       "  </thead>\n",
       "  <tbody>\n",
       "    <tr>\n",
       "      <th>Facebook</th>\n",
       "      <td>218</td>\n",
       "      <td>204</td>\n",
       "      <td>209</td>\n",
       "    </tr>\n",
       "    <tr>\n",
       "      <th>Instagram</th>\n",
       "      <td>267</td>\n",
       "      <td>203</td>\n",
       "      <td>208</td>\n",
       "    </tr>\n",
       "    <tr>\n",
       "      <th>NonExistingPlatform</th>\n",
       "      <td>1</td>\n",
       "      <td>3</td>\n",
       "      <td>2</td>\n",
       "    </tr>\n",
       "    <tr>\n",
       "      <th>Twitter</th>\n",
       "      <td>249</td>\n",
       "      <td>219</td>\n",
       "      <td>217</td>\n",
       "    </tr>\n",
       "  </tbody>\n",
       "</table>\n",
       "</div>"
      ],
      "text/plain": [
       "post_type            image  text  video\n",
       "platform                               \n",
       "Facebook               218   204    209\n",
       "Instagram              267   203    208\n",
       "NonExistingPlatform      1     3      2\n",
       "Twitter                249   219    217"
      ]
     },
     "execution_count": 9,
     "metadata": {},
     "output_type": "execute_result"
    }
   ],
   "source": [
    "pd.crosstab(df['platform'], df['post_type'])"
   ]
  },
  {
   "cell_type": "code",
   "execution_count": 10,
   "id": "a3e6f1a9",
   "metadata": {},
   "outputs": [
    {
     "data": {
      "text/plain": [
       "<Axes: xlabel='platform'>"
      ]
     },
     "execution_count": 10,
     "metadata": {},
     "output_type": "execute_result"
    },
    {
     "data": {
      "image/png": "[encoded data removed]",
      "text/plain": [
       "<Figure size 640x480 with 1 Axes>"
      ]
     },
     "metadata": {},
     "output_type": "display_data"
    }
   ],
   "source": [
    "pd.crosstab(df['platform'], df['post_type']).plot(kind='bar', stacked=True)"
   ]
  },
  {
   "cell_type": "code",
   "execution_count": 11,
   "id": "88b7a1f4",
   "metadata": {},
   "outputs": [
    {
     "data": {
      "text/html": [
       "<div>\n",
       "<style scoped>\n",
       "    .dataframe tbody tr th:only-of-type {\n",
       "        vertical-align: middle;\n",
       "    }\n",
       "\n",
       "    .dataframe tbody tr th {\n",
       "        vertical-align: top;\n",
       "    }\n",
       "\n",
       "    .dataframe thead th {\n",
       "        text-align: right;\n",
       "    }\n",
       "</style>\n",
       "<table border=\"1\" class=\"dataframe\">\n",
       "  <thead>\n",
       "    <tr style=\"text-align: right;\">\n",
       "      <th></th>\n",
       "      <th>likes</th>\n",
       "      <th>shares</th>\n",
       "      <th>comments</th>\n",
       "      <th>total</th>\n",
       "    </tr>\n",
       "    <tr>\n",
       "      <th>post_type</th>\n",
       "      <th></th>\n",
       "      <th></th>\n",
       "      <th></th>\n",
       "      <th></th>\n",
       "    </tr>\n",
       "  </thead>\n",
       "  <tbody>\n",
       "    <tr>\n",
       "      <th>image</th>\n",
       "      <td>928510.0</td>\n",
       "      <td>362233.0</td>\n",
       "      <td>225818.0</td>\n",
       "      <td>1516561.0</td>\n",
       "    </tr>\n",
       "    <tr>\n",
       "      <th>text</th>\n",
       "      <td>824592.0</td>\n",
       "      <td>317322.0</td>\n",
       "      <td>189292.0</td>\n",
       "      <td>1331206.0</td>\n",
       "    </tr>\n",
       "    <tr>\n",
       "      <th>video</th>\n",
       "      <td>816170.0</td>\n",
       "      <td>311040.0</td>\n",
       "      <td>194139.0</td>\n",
       "      <td>1321349.0</td>\n",
       "    </tr>\n",
       "  </tbody>\n",
       "</table>\n",
       "</div>"
      ],
      "text/plain": [
       "              likes    shares  comments      total\n",
       "post_type                                         \n",
       "image      928510.0  362233.0  225818.0  1516561.0\n",
       "text       824592.0  317322.0  189292.0  1331206.0\n",
       "video      816170.0  311040.0  194139.0  1321349.0"
      ]
     },
     "execution_count": 11,
     "metadata": {},
     "output_type": "execute_result"
    }
   ],
   "source": [
    "type_engagements = df[['post_type', 'likes', 'shares', 'comments']].groupby('post_type').sum()\n",
    "type_engagements['total'] = type_engagements['likes'] + type_engagements['shares'] + type_engagements['comments'] \n",
    "type_engagements"
   ]
  },
  {
   "cell_type": "code",
   "execution_count": 12,
   "id": "a838afda",
   "metadata": {},
   "outputs": [
    {
     "data": {
      "text/plain": [
       "<Axes: xlabel='post_type'>"
      ]
     },
     "execution_count": 12,
     "metadata": {},
     "output_type": "execute_result"
    },
    {
     "data": {
      "image/png": "[encoded data removed]",
      "text/plain": [
       "<Figure size 640x480 with 1 Axes>"
      ]
     },
     "metadata": {},
     "output_type": "display_data"
    }
   ],
   "source": [
    "type_engagements.drop(columns='total').plot(kind='bar', stacked=True)"
   ]
  },
  {
   "cell_type": "code",
   "execution_count": 13,
   "id": "4d1e3586",
   "metadata": {},
   "outputs": [
    {
     "data": {
      "text/html": [
       "<div>\n",
       "<style scoped>\n",
       "    .dataframe tbody tr th:only-of-type {\n",
       "        vertical-align: middle;\n",
       "    }\n",
       "\n",
       "    .dataframe tbody tr th {\n",
       "        vertical-align: top;\n",
       "    }\n",
       "\n",
       "    .dataframe thead th {\n",
       "        text-align: right;\n",
       "    }\n",
       "</style>\n",
       "<table border=\"1\" class=\"dataframe\">\n",
       "  <thead>\n",
       "    <tr style=\"text-align: right;\">\n",
       "      <th></th>\n",
       "      <th>likes</th>\n",
       "      <th>shares</th>\n",
       "      <th>comments</th>\n",
       "      <th>total</th>\n",
       "    </tr>\n",
       "    <tr>\n",
       "      <th>post_type</th>\n",
       "      <th></th>\n",
       "      <th></th>\n",
       "      <th></th>\n",
       "      <th></th>\n",
       "    </tr>\n",
       "  </thead>\n",
       "  <tbody>\n",
       "    <tr>\n",
       "      <th>image</th>\n",
       "      <td>733</td>\n",
       "      <td>733</td>\n",
       "      <td>734</td>\n",
       "      <td>2200</td>\n",
       "    </tr>\n",
       "    <tr>\n",
       "      <th>text</th>\n",
       "      <td>625</td>\n",
       "      <td>626</td>\n",
       "      <td>625</td>\n",
       "      <td>1876</td>\n",
       "    </tr>\n",
       "    <tr>\n",
       "      <th>video</th>\n",
       "      <td>634</td>\n",
       "      <td>633</td>\n",
       "      <td>633</td>\n",
       "      <td>1900</td>\n",
       "    </tr>\n",
       "  </tbody>\n",
       "</table>\n",
       "</div>"
      ],
      "text/plain": [
       "           likes  shares  comments  total\n",
       "post_type                                \n",
       "image        733     733       734   2200\n",
       "text         625     626       625   1876\n",
       "video        634     633       633   1900"
      ]
     },
     "execution_count": 13,
     "metadata": {},
     "output_type": "execute_result"
    }
   ],
   "source": [
    "counts = df[['post_type', 'likes', 'shares', 'comments']].groupby('post_type').count()\n",
    "counts['total'] = counts['likes'] + counts['shares'] + counts['comments'] \n",
    "counts"
   ]
  },
  {
   "cell_type": "code",
   "execution_count": 14,
   "id": "05da766d",
   "metadata": {},
   "outputs": [
    {
     "data": {
      "text/html": [
       "<div>\n",
       "<style scoped>\n",
       "    .dataframe tbody tr th:only-of-type {\n",
       "        vertical-align: middle;\n",
       "    }\n",
       "\n",
       "    .dataframe tbody tr th {\n",
       "        vertical-align: top;\n",
       "    }\n",
       "\n",
       "    .dataframe thead th {\n",
       "        text-align: right;\n",
       "    }\n",
       "</style>\n",
       "<table border=\"1\" class=\"dataframe\">\n",
       "  <thead>\n",
       "    <tr style=\"text-align: right;\">\n",
       "      <th></th>\n",
       "      <th>likes</th>\n",
       "      <th>shares</th>\n",
       "      <th>comments</th>\n",
       "      <th>total</th>\n",
       "    </tr>\n",
       "    <tr>\n",
       "      <th>post_type</th>\n",
       "      <th></th>\n",
       "      <th></th>\n",
       "      <th></th>\n",
       "      <th></th>\n",
       "    </tr>\n",
       "  </thead>\n",
       "  <tbody>\n",
       "    <tr>\n",
       "      <th>text</th>\n",
       "      <td>1319.347200</td>\n",
       "      <td>506.904153</td>\n",
       "      <td>302.867200</td>\n",
       "      <td>709.598081</td>\n",
       "    </tr>\n",
       "    <tr>\n",
       "      <th>video</th>\n",
       "      <td>1287.334385</td>\n",
       "      <td>491.374408</td>\n",
       "      <td>306.696682</td>\n",
       "      <td>695.446842</td>\n",
       "    </tr>\n",
       "    <tr>\n",
       "      <th>image</th>\n",
       "      <td>1266.725784</td>\n",
       "      <td>494.178718</td>\n",
       "      <td>307.653951</td>\n",
       "      <td>689.345909</td>\n",
       "    </tr>\n",
       "  </tbody>\n",
       "</table>\n",
       "</div>"
      ],
      "text/plain": [
       "                 likes      shares    comments       total\n",
       "post_type                                                 \n",
       "text       1319.347200  506.904153  302.867200  709.598081\n",
       "video      1287.334385  491.374408  306.696682  695.446842\n",
       "image      1266.725784  494.178718  307.653951  689.345909"
      ]
     },
     "execution_count": 14,
     "metadata": {},
     "output_type": "execute_result"
    }
   ],
   "source": [
    "avg_type = type_engagements / counts\n",
    "avg_type.sort_values(by='total' ,ascending=False)"
   ]
  },
  {
   "cell_type": "code",
   "execution_count": 15,
   "id": "96e97671",
   "metadata": {},
   "outputs": [],
   "source": [
    "df['date'] = pd.to_datetime(df['date'])\n",
    "df['quarter'] = pd.PeriodIndex(df['date'], freq='Q')"
   ]
  },
  {
   "cell_type": "code",
   "execution_count": 16,
   "id": "b35ec71d",
   "metadata": {},
   "outputs": [
    {
     "data": {
      "text/html": [
       "<div>\n",
       "<style scoped>\n",
       "    .dataframe tbody tr th:only-of-type {\n",
       "        vertical-align: middle;\n",
       "    }\n",
       "\n",
       "    .dataframe tbody tr th {\n",
       "        vertical-align: top;\n",
       "    }\n",
       "\n",
       "    .dataframe thead th {\n",
       "        text-align: right;\n",
       "    }\n",
       "</style>\n",
       "<table border=\"1\" class=\"dataframe\">\n",
       "  <thead>\n",
       "    <tr style=\"text-align: right;\">\n",
       "      <th></th>\n",
       "      <th>likes</th>\n",
       "      <th>shares</th>\n",
       "      <th>comments</th>\n",
       "      <th>total</th>\n",
       "    </tr>\n",
       "    <tr>\n",
       "      <th>quarter</th>\n",
       "      <th></th>\n",
       "      <th></th>\n",
       "      <th></th>\n",
       "      <th></th>\n",
       "    </tr>\n",
       "  </thead>\n",
       "  <tbody>\n",
       "    <tr>\n",
       "      <th>2022Q4</th>\n",
       "      <td>573570.0</td>\n",
       "      <td>235393.0</td>\n",
       "      <td>137125.0</td>\n",
       "      <td>946088.0</td>\n",
       "    </tr>\n",
       "    <tr>\n",
       "      <th>2023Q1</th>\n",
       "      <td>629848.0</td>\n",
       "      <td>247688.0</td>\n",
       "      <td>156772.0</td>\n",
       "      <td>1034308.0</td>\n",
       "    </tr>\n",
       "    <tr>\n",
       "      <th>2023Q2</th>\n",
       "      <td>630151.0</td>\n",
       "      <td>228698.0</td>\n",
       "      <td>144422.0</td>\n",
       "      <td>1003271.0</td>\n",
       "    </tr>\n",
       "    <tr>\n",
       "      <th>2023Q3</th>\n",
       "      <td>615311.0</td>\n",
       "      <td>234753.0</td>\n",
       "      <td>142869.0</td>\n",
       "      <td>992933.0</td>\n",
       "    </tr>\n",
       "    <tr>\n",
       "      <th>2023Q4</th>\n",
       "      <td>120392.0</td>\n",
       "      <td>44063.0</td>\n",
       "      <td>28061.0</td>\n",
       "      <td>192516.0</td>\n",
       "    </tr>\n",
       "  </tbody>\n",
       "</table>\n",
       "</div>"
      ],
      "text/plain": [
       "            likes    shares  comments      total\n",
       "quarter                                         \n",
       "2022Q4   573570.0  235393.0  137125.0   946088.0\n",
       "2023Q1   629848.0  247688.0  156772.0  1034308.0\n",
       "2023Q2   630151.0  228698.0  144422.0  1003271.0\n",
       "2023Q3   615311.0  234753.0  142869.0   992933.0\n",
       "2023Q4   120392.0   44063.0   28061.0   192516.0"
      ]
     },
     "execution_count": 16,
     "metadata": {},
     "output_type": "execute_result"
    }
   ],
   "source": [
    "quarter_data = df[['quarter', 'likes', 'shares', 'comments']].groupby('quarter').sum()\n",
    "quarter_data['total'] = quarter_data['likes'] + quarter_data['shares'] + quarter_data['comments'] \n",
    "quarter_data"
   ]
  },
  {
   "cell_type": "code",
   "execution_count": 17,
   "id": "1a969d89",
   "metadata": {},
   "outputs": [
    {
     "data": {
      "text/plain": [
       "<Axes: xlabel='quarter'>"
      ]
     },
     "execution_count": 17,
     "metadata": {},
     "output_type": "execute_result"
    },
    {
     "data": {
      "image/png": "[encoded data removed]",
      "text/plain": [
       "<Figure size 640x480 with 1 Axes>"
      ]
     },
     "metadata": {},
     "output_type": "display_data"
    }
   ],
   "source": [
    "quarter_data.drop(columns='total').plot(kind='bar', stacked=True)"
   ]
  },
  {
   "cell_type": "code",
   "execution_count": null,
   "id": "25686698",
   "metadata": {},
   "outputs": [],
   "source": []
  }
 ],
 "metadata": {
  "kernelspec": {
   "display_name": "Python 3 (ipykernel)",
   "language": "python",
   "name": "python3"
  },
  "language_info": {
   "codemirror_mode": {
    "name": "ipython",
    "version": 3
   },
   "file_extension": ".py",
   "mimetype": "text/x-python",
   "name": "python",
   "nbconvert_exporter": "python",
   "pygments_lexer": "ipython3",
   "version": "3.12.2"
  }
 },
 "nbformat": 4,
 "nbformat_minor": 5
}
